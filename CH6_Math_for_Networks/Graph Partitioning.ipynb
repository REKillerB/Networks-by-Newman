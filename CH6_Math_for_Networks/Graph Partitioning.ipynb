{
 "cells": [
  {
   "cell_type": "markdown",
   "metadata": {},
   "source": [
    "### Spectral Partitioning/Clustering\n",
    "\n",
    "Spectral Partitioning is an unsupervised learning technique that uses eigen-decomposition to seperate clusters within a network.\n",
    "> The process is three simple steps\n",
    "1. Calculate Eigenvalues and Eigenvectors\n",
    "2. Using the Eigenvectors(mostly the first) with the smallest non-zero eigenvalues\n",
    "3. Use K-means clustering on the Selected Eigenvectors to label the nodes"
   ]
  },
  {
   "cell_type": "code",
   "execution_count": 1,
   "metadata": {},
   "outputs": [],
   "source": [
    "#Making a well Clustered Network\n",
    "import matplotlib.pyplot as plt\n",
    "import networkx as nx\n",
    "import numpy as np\n",
    "G=nx.Graph()\n",
    "A=nx.complete_graph(10)\n",
    "B=nx.complete_graph(20)\n",
    "C=nx.complete_graph(25)\n",
    "G=nx.disjoint_union_all([A,B,C])\n",
    "G.add_edges_from([(0,15),(3,24),(4,24),(35,2),(50,36),(50,37)])\n",
    "G.pos=nx.spring_layout(G)\n",
    "nx.draw_networkx(G,pos=G.pos, ax=plt.axes(), with_labels=False)"
   ]
  },
  {
   "cell_type": "code",
   "execution_count": 2,
   "metadata": {},
   "outputs": [],
   "source": [
    "L=nx.linalg.laplacian_matrix(G).todense()\n",
    "val,vec = np.linalg.eig(L)"
   ]
  },
  {
   "cell_type": "code",
   "execution_count": 3,
   "metadata": {},
   "outputs": [
    {
     "data": {
      "text/plain": [
       "array([ 4.65170933e-01+0.0000000e+00j, -1.07314589e-15+0.0000000e+00j,\n",
       "        5.46524081e-02+0.0000000e+00j,  2.60229902e+01+0.0000000e+00j,\n",
       "        2.10362437e+01+0.0000000e+00j,  2.20713865e+01+0.0000000e+00j,\n",
       "        1.05493845e+01+0.0000000e+00j,  1.08709049e+01+0.0000000e+00j,\n",
       "        1.09292669e+01+0.0000000e+00j,  1.10000000e+01+0.0000000e+00j,\n",
       "        1.00000000e+01+0.0000000e+00j,  1.00000000e+01+0.0000000e+00j,\n",
       "        2.50000000e+01+0.0000000e+00j,  2.50000000e+01+0.0000000e+00j,\n",
       "        2.50000000e+01+0.0000000e+00j,  1.00000000e+01+0.0000000e+00j,\n",
       "        1.00000000e+01+0.0000000e+00j,  1.00000000e+01+0.0000000e+00j,\n",
       "        2.50000000e+01+0.0000000e+00j,  2.50000000e+01+0.0000000e+00j,\n",
       "        2.00000000e+01+0.0000000e+00j,  2.00000000e+01+0.0000000e+00j,\n",
       "        2.00000000e+01+0.0000000e+00j,  2.00000000e+01+0.0000000e+00j,\n",
       "        2.00000000e+01+0.0000000e+00j,  2.00000000e+01+0.0000000e+00j,\n",
       "        2.00000000e+01+0.0000000e+00j,  2.50000000e+01+0.0000000e+00j,\n",
       "        2.50000000e+01+0.0000000e+00j,  2.00000000e+01+0.0000000e+00j,\n",
       "        2.50000000e+01+0.0000000e+00j,  2.50000000e+01+3.0767403e-15j,\n",
       "        2.50000000e+01-3.0767403e-15j,  2.50000000e+01+0.0000000e+00j,\n",
       "        2.00000000e+01+0.0000000e+00j,  2.00000000e+01+0.0000000e+00j,\n",
       "        2.00000000e+01+0.0000000e+00j,  2.00000000e+01+0.0000000e+00j,\n",
       "        2.50000000e+01+0.0000000e+00j,  2.50000000e+01+0.0000000e+00j,\n",
       "        2.50000000e+01+0.0000000e+00j,  2.00000000e+01+0.0000000e+00j,\n",
       "        2.00000000e+01+0.0000000e+00j,  2.00000000e+01+0.0000000e+00j,\n",
       "        2.50000000e+01+0.0000000e+00j,  2.50000000e+01+0.0000000e+00j,\n",
       "        2.50000000e+01+0.0000000e+00j,  2.00000000e+01+0.0000000e+00j,\n",
       "        2.00000000e+01+0.0000000e+00j,  2.50000000e+01+0.0000000e+00j,\n",
       "        2.50000000e+01+0.0000000e+00j,  2.50000000e+01+0.0000000e+00j,\n",
       "        2.50000000e+01+0.0000000e+00j,  2.50000000e+01+0.0000000e+00j,\n",
       "        2.50000000e+01+0.0000000e+00j])"
      ]
     },
     "execution_count": 3,
     "metadata": {},
     "output_type": "execute_result"
    }
   ],
   "source": [
    "val"
   ]
  },
  {
   "cell_type": "code",
   "execution_count": 4,
   "metadata": {},
   "outputs": [
    {
     "data": {
      "text/plain": [
       "matrix([[ 2.51160796e-01+0.j, -1.34839972e-01+0.j, -8.64571925e-02+0.j,\n",
       "         ..., -4.92650036e-18+0.j, -3.97065647e-18+0.j,\n",
       "          7.70917142e-18+0.j],\n",
       "        [ 2.87226021e-01+0.j, -1.34839972e-01+0.j, -8.11088181e-02+0.j,\n",
       "         ..., -1.40369080e-17+0.j, -4.44942986e-17+0.j,\n",
       "          1.48129140e-17+0.j],\n",
       "        [ 2.58753999e-01+0.j, -1.34839972e-01+0.j, -6.10775152e-02+0.j,\n",
       "         ...,  2.83917459e-17+0.j, -2.55603655e-18+0.j,\n",
       "         -1.29383624e-17+0.j],\n",
       "        ...,\n",
       "        [-2.37867775e-02+0.j, -1.34839972e-01+0.j,  1.46126943e-01+0.j,\n",
       "         ..., -4.09697985e-01+0.j, -2.95300348e-01+0.j,\n",
       "         -4.74310938e-01+0.j],\n",
       "        [-2.37867775e-02+0.j, -1.34839972e-01+0.j,  1.46126943e-01+0.j,\n",
       "         ..., -5.80770087e-02+0.j,  1.04491873e-01+0.j,\n",
       "         -1.17141571e-01+0.j],\n",
       "        [-2.37867775e-02+0.j, -1.34839972e-01+0.j,  1.46126943e-01+0.j,\n",
       "         ..., -2.49119418e-01+0.j, -3.38488950e-01+0.j,\n",
       "          4.32896417e-01+0.j]])"
      ]
     },
     "execution_count": 4,
     "metadata": {},
     "output_type": "execute_result"
    }
   ],
   "source": [
    "vec"
   ]
  },
  {
   "cell_type": "code",
   "execution_count": 5,
   "metadata": {},
   "outputs": [],
   "source": [
    "i=np.where(val<0.5)[0]"
   ]
  },
  {
   "cell_type": "code",
   "execution_count": 6,
   "metadata": {},
   "outputs": [
    {
     "name": "stderr",
     "output_type": "stream",
     "text": [
      "C:\\Users\\REKan\\AppData\\Local\\Continuum\\anaconda3\\lib\\site-packages\\numpy\\core\\numeric.py:538: ComplexWarning: Casting complex values to real discards the imaginary part\n",
      "  return array(a, dtype, copy=False, order=order)\n"
     ]
    },
    {
     "data": {
      "text/plain": [
       "[<matplotlib.lines.Line2D at 0x1c0dc9c3d68>]"
      ]
     },
     "execution_count": 6,
     "metadata": {},
     "output_type": "execute_result"
    },
    {
     "data": {
      "image/png": "[encoded data removed]",
      "text/plain": [
       "<Figure size 432x288 with 1 Axes>"
      ]
     },
     "metadata": {
      "needs_background": "light"
     },
     "output_type": "display_data"
    }
   ],
   "source": [
    "#Notice the well seperated groups of nodes\n",
    "#This would be easy to apply K-Means to define the clusters\n",
    "plt.plot(vec[:,i[0]])"
   ]
  },
  {
   "cell_type": "code",
   "execution_count": null,
   "metadata": {},
   "outputs": [],
   "source": []
  }
 ],
 "metadata": {
  "kernelspec": {
   "display_name": "Python 3",
   "language": "python",
   "name": "python3"
  },
  "language_info": {
   "codemirror_mode": {
    "name": "ipython",
    "version": 3
   },
   "file_extension": ".py",
   "mimetype": "text/x-python",
   "name": "python",
   "nbconvert_exporter": "python",
   "pygments_lexer": "ipython3",
   "version": "3.7.3"
  }
 },
 "nbformat": 4,
 "nbformat_minor": 2
}
